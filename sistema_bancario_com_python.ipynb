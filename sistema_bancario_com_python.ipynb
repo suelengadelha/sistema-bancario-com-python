{
  "nbformat": 4,
  "nbformat_minor": 0,
  "metadata": {
    "colab": {
      "provenance": [],
      "authorship_tag": "ABX9TyOLE6ETkp/sjMjiPp5xRdkg",
      "include_colab_link": true
    },
    "kernelspec": {
      "name": "python3",
      "display_name": "Python 3"
    },
    "language_info": {
      "name": "python"
    }
  },
  "cells": [
    {
      "cell_type": "markdown",
      "metadata": {
        "id": "view-in-github",
        "colab_type": "text"
      },
      "source": [
        "<a href=\"https://colab.research.google.com/github/suelengadelha/sistema-bancario-com-python/blob/main/sistema_bancario_com_python.ipynb\" target=\"_parent\"><img src=\"https://colab.research.google.com/assets/colab-badge.svg\" alt=\"Open In Colab\"/></a>"
      ]
    },
    {
      "cell_type": "code",
      "source": [
        "menu = \"\"\"\n",
        "\n",
        "[d] Depositar\n",
        "[s] Sacar\n",
        "[e] Extrato\n",
        "[q] Sair\n",
        "\n",
        "=> \"\"\"\n",
        "\n",
        "saldo = 0\n",
        "limite = 500.0\n",
        "extrato = \"\"\n",
        "extrato = f'= R$ {saldo: .2f}.......... Saldo inicial\\n'\n",
        "numero_saques = 0\n",
        "LIMITE_SAQUES = 3\n",
        "verificador_extrato = False\n",
        "\n",
        "\n",
        "\n",
        "while True:\n",
        "    opcao = input(menu)\n",
        "\n",
        "    if opcao == \"d\":\n",
        "        print(\"Depósito\")\n",
        "        valor = float(input(\"Informe o valor que deseja depositar: R$\"))\n",
        "\n",
        "\n",
        "        if valor > 0:\n",
        "            saldo += valor\n",
        "            verificador_extrato = True\n",
        "            extrato += f'+ R$ {valor: .2f}.......... Depósito\\n'\n",
        "            extrato += f'= R$ {saldo: .2f}.......... Saldo\\n'\n",
        "\n",
        "        else:\n",
        "            print(\"O valor de depósito deve ser maior que R$0. Tente novamente:\")\n",
        "\n",
        "\n",
        "\n",
        "    elif opcao == \"s\":\n",
        "        print(\"Saque\")\n",
        "        valor = float(input(\"Informe o valor que deseja sacar: R$\"))\n",
        "\n",
        "        if valor > limite:\n",
        "            print(\"O limite máximo diário para saques é de R$\", limite,\". Tente novamente.\")\n",
        "\n",
        "        elif valor > saldo or saldo == 0:\n",
        "            print(\"Saldo em conta insuficiente. Tente novamente.\")\n",
        "\n",
        "        elif numero_saques >= LIMITE_SAQUES:\n",
        "            print(\"Só são permitidos 3 saques diários. Tente novamente amanhã.\")\n",
        "\n",
        "        elif valor > 0:\n",
        "            saldo -= valor\n",
        "            numero_saques +=1\n",
        "            verificador_extrato = True\n",
        "            extrato += f'- R$ {valor: .2f}.......... Saque\\n'\n",
        "            extrato += f'= R$ {saldo: .2f}.......... Saldo\\n'\n",
        "\n",
        "\n",
        "        else:\n",
        "            print(\"Valor inválido. Tente novamente.\")\n",
        "\n",
        "\n",
        "    elif opcao == \"e\":\n",
        "        if verificador_extrato is True:\n",
        "            print(f'''\n",
        "            \\n==================== EXTRATO ====================\n",
        "            \\n\n",
        "            \\n{extrato}\n",
        "            \\nSaldo atual: R$ {saldo: .2f}\n",
        "            \\n=================================================\n",
        "            ''')\n",
        "        else:\n",
        "            print(f'''\n",
        "              \\n\n",
        "            ==================== EXTRATO ====================\n",
        "              \\n\n",
        "            Não houve movimentações na sua conta.\n",
        "            \\n\n",
        "            Saldo atual: R$ {saldo: .2f}\n",
        "            =================================================\n",
        "                ''')\n",
        "\n",
        "\n",
        "    elif opcao == \"q\":\n",
        "        print(\"Obrigado por ser nosso cliente. Volte sempre!\")\n",
        "        break\n",
        "\n",
        "    else:\n",
        "        print(\"Operação inválida! Por favor selecione novamente a operação desejada.\")"
      ],
      "metadata": {
        "colab": {
          "base_uri": "https://localhost:8080/"
        },
        "id": "yhTzo2q4YYQq",
        "outputId": "4b542298-5c1b-4957-b9be-dece6bd05427"
      },
      "execution_count": null,
      "outputs": [
        {
          "metadata": {
            "tags": null
          },
          "name": "stdout",
          "output_type": "stream",
          "text": [
            "Depósito\n",
            "Saque\n",
            "O limite máximo diário para saques é de R$ 500.0 . Tente novamente.\n",
            "Operação inválida! Por favor selecione novamente a operação desejada.\n",
            "Saque\n",
            "Depósito\n",
            "Saque\n",
            "O limite máximo diário para saques é de R$ 500.0 . Tente novamente.\n",
            "Saque\n",
            "\n",
            "            \n",
            "==================== EXTRATO ====================\n",
            "            \n",
            "\n",
            "            \n",
            "= R$  0.00.......... Saldo inicial\n",
            "+ R$  1500.00.......... Depósito\n",
            "= R$  1500.00.......... Saldo\n",
            "- R$  500.00.......... Saque\n",
            "= R$  1000.00.......... Saldo\n",
            "+ R$  1500.00.......... Depósito\n",
            "= R$  2500.00.......... Saldo\n",
            "- R$  500.00.......... Saque\n",
            "= R$  2000.00.......... Saldo\n",
            "\n",
            "            \n",
            "Saldo atual: R$  2000.00\n",
            "            \n",
            "=================================================\n",
            "            \n"
          ]
        }
      ]
    },
    {
      "cell_type": "markdown",
      "source": [],
      "metadata": {
        "id": "QmOsnv_jYZCq"
      }
    },
    {
      "cell_type": "code",
      "source": [],
      "metadata": {
        "id": "0fpZLV3AYZ5R"
      },
      "execution_count": null,
      "outputs": []
    }
  ]
}